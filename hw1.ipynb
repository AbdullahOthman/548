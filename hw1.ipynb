{
 "cells": [
  {
   "cell_type": "markdown",
   "metadata": {},
   "source": [
    "# 548 hw1 due 11:59p Mon Jan 9 on Canvas\n",
    "You are welcome (and encouraged) to work with others, but each individual must submit their own writeup.\n",
    "\n",
    "You are welcome to use analytical and numerical computational tools; if you do, include the **commented** sourcecode in your writeup (e.g. the .ipynb file)."
   ]
  },
  {
   "cell_type": "markdown",
   "metadata": {},
   "source": [
    "# system modeling (Stengel 1.1)\n",
    "Read Ch. 1 in Stengel1994.\n",
    "\n",
    "a. Define the vectors of a dynamic process model $(x,u,w,p,y,n,z)$ and cost function $J$ in your own field of interest.\n",
    "\n",
    "b. Do the variables of this model change continuously or do they also undergo discontinuous changes at discrete instants of time?\n",
    "\n",
    "c. How fast would measurements have to occur to capture the important details of time variables?\n",
    "\n",
    "d. Is the system linear?  nonlinear?  time-varying?  Explain."
   ]
  },
  {
   "cell_type": "markdown",
   "metadata": {},
   "source": [
    "# linear algebra (Stengel 2.2.3, 2.2.6)\n",
    "\n",
    "a. Determine necessary and sufficient conditions on the scalars $a,b,c,d\\in\\mathbb{C}$ so that $\\left[ \\begin{array}{cc} a & b \\\\ c & d \\end{array} \\right]$ is Hermetian and positive-definite.\n",
    "\n",
    "b. Show that $(I_n - A B^{-1} C)^{-1} = I_n - A (CA - B)^{-1} C$ (assume $(I_n - A B^{-1} C)$, $B$, and $(CA - B)$ are invertible, but make no other assumptions regarding invertibility).  What are the dimensions of $A$, $B$, and $C$?"
   ]
  },
  {
   "cell_type": "markdown",
   "metadata": {},
   "source": [
    "# Lyapunov tests for stability\n",
    "\n",
    "Recall that the origin is (exponentially) stable for $\\dot{x} = Ax$ if and only if for every $Q = Q^T > 0$ there exists a unique $P = P^T > 0$ that satisfies the *Lyapunov equation*\n",
    "$$A^T P + P A = - Q.$$\n",
    "Note that $P$ appears linearly in the Lyapunov equation.\n",
    "\n",
    "a. Consider the LTI model for a second-order spring-mass-damper system\n",
    "$$\\left[\\begin{array}{c} \\dot{x}_1 \\\\ \\dot{x}_2 \\end{array}\\right] \n",
    "= \\left[\\begin{array}{cc} 0 & 1 \\\\ -\\kappa & -\\beta \\end{array}\\right] \n",
    "\\left[\\begin{array}{c} x_1 \\\\ x_2 \\end{array}\\right].$$\n",
    "Given $Q = -I$, determine the matrix $P$ that solves the Lyapunov equation by symbolically solving 3 linear equations.  What conditions must parameters $\\kappa$ and $\\beta$ satisfy in (a.) to ensure $P > 0$? \n",
    "\n",
    "b. Implement a numerical algorithm that determines $P$ for arbitrary $A,Q\\in\\mathbb{R}^{2\\times 2}$; be sure to require that $Q = Q^T > 0$.\n",
    "\n",
    "c. Generate a test suite that validates your algorithm against the **lyap** routine in the Control Systems Toolbox.  Explain why this test suite is comprehensive.  (Your algorithm may fail on some cases; if so, discuss these.)"
   ]
  },
  {
   "cell_type": "markdown",
   "metadata": {},
   "source": [
    "# Van der Pol system (Stengel 2.3.3, 2.5.2)\n",
    "Consider the continuous-time nonlinear system (CNL)\n",
    "$$\\ddot{x} + a(1 - x^2) \\dot{x} + bx = u,\\ y = x.$$\n",
    "\n",
    "a. Simulate (CNL) with $a = 1$, $b = 1$, $u = 0$, $x(0) = 0.1$, $\\dot{x}(0) = 0$ for $t = 10$ time units; provide a labeled plot of the result.\n",
    "\n",
    "b. Repeat (a) with $x(0) = 0.2$, $\\dot{x}(0) = 0$; provide a labeled plot of the result.\n",
    "\n",
    "c. Linearize (CNL) about the origin to obtain a continuous-time linear time-invariant system (CLTI)\n",
    "$$\\dot{\\xi} = A \\xi + B \\mu,\\ \\eta = C\\xi + D\\mu.$$\n",
    "\n",
    "d. Simulate (CLTI) with $\\xi(0) = (0.1,0)$ and $\\mu = 0$, add this simulated trajectory to the simulated trajectory from (a), and compare to the simulated trajectory from (b).\n",
    "\n",
    "e. Is (CLTI) stable, neutral, or unstable?  What can you conclude about stability of the origin for (CNL)?\n",
    "\n",
    "f. Repeat (e) with $a = -1$.\n",
    "\n",
    "g. Is (CLTI) controllable?  observable?\n",
    "\n",
    "h. Generate a phase plane plot (i.e. plot trajectories on $(x,\\dot{x})$ axes) for (CNL) showing simulated trajectories of at least three initial conditions using the parameter values from (f.).\n",
    "\n",
    "**Hint:**  you may wish to make use of the forward_euler function in the _547.py module."
   ]
  }
 ],
 "metadata": {
  "anaconda-cloud": {},
  "kernelspec": {
   "display_name": "Python [Root]",
   "language": "python",
   "name": "Python [Root]"
  },
  "language_info": {
   "codemirror_mode": {
    "name": "ipython",
    "version": 2
   },
   "file_extension": ".py",
   "mimetype": "text/x-python",
   "name": "python",
   "nbconvert_exporter": "python",
   "pygments_lexer": "ipython2",
   "version": "2.7.12"
  }
 },
 "nbformat": 4,
 "nbformat_minor": 0
}
