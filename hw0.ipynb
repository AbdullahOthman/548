{
 "cells": [
  {
   "cell_type": "markdown",
   "metadata": {},
   "source": [
    "# 548 hw0 due 11:59p Fri Jan 6 on Canvas\n",
    "\n",
    "This assignment will be graded on participation; so long as you make an effort on each problem and upload a legible pdf to Canvas, you will receive full credit."
   ]
  },
  {
   "cell_type": "markdown",
   "metadata": {},
   "source": [
    "# welcome to Linear Systems Theory!\n",
    "\n",
    "a. What were you doing before you enrolled in your current program?\n",
    "\n",
    "b. What do you hope to do after you graduate?\n",
    "\n",
    "c. Why did you enroll in this course?\n",
    "\n",
    "d. What do you hope to learn in this course?\n",
    "\n",
    "e. Log in to Canvas and edit your Profile; add a headshot photo, and specify the name we should use to refer to you.  (see my example at https://canvas.uw.edu/about/3510568)"
   ]
  }
 ],
 "metadata": {
  "kernelspec": {
   "display_name": "Python [Root]",
   "language": "python",
   "name": "Python [Root]"
  },
  "language_info": {
   "codemirror_mode": {
    "name": "ipython",
    "version": 2
   },
   "file_extension": ".py",
   "mimetype": "text/x-python",
   "name": "python",
   "nbconvert_exporter": "python",
   "pygments_lexer": "ipython2",
   "version": "2.7.12"
  }
 },
 "nbformat": 4,
 "nbformat_minor": 0
}
